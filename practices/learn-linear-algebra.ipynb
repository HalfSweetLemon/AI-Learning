{
 "cells": [
  {
   "cell_type": "code",
   "execution_count": 12,
   "id": "94331350",
   "metadata": {},
   "outputs": [
    {
     "name": "stdout",
     "output_type": "stream",
     "text": [
      "向量v: [ 1 -2  4]\n",
      "向量w: [ 3  0 -1]\n",
      "v + w = [ 4 -2  3]\n",
      "v·w -1\n",
      "u经过R变换后: [-1  3]\n",
      "u经过S变换后: [6 1]\n",
      "先旋转再缩放: [[ 0 -2]\n",
      " [ 1  0]]\n",
      "u经过T变换后: [-2  3]\n"
     ]
    }
   ],
   "source": [
    "import numpy as np\n",
    "# # 创建向量\n",
    "# v = np.array([2, 3])\n",
    "# w = np.array([1, -1])\n",
    "# print(\"向量v:\", v)\n",
    "# print(\"向量w:\", w)\n",
    "# # 向量加法和标量乘法\n",
    "# print(\"v + w =\", v + w)\n",
    "# print(\"2 * v =\", 2 * v)\n",
    "\n",
    "# # 定义几个变换矩阵\n",
    "# # 缩放矩阵\n",
    "# scale_matrix = np.array([[2, 0],  # 将i帽(x轴基向量)缩放为2倍\n",
    "#                           [0, 2]]) # 将j帽(y轴基向量)缩放为2倍\n",
    "# # 旋转矩阵 (逆时针旋转90度)\n",
    "# rotation_matrix = np.array([[0, -1],\n",
    "#                             [1, 0]])\n",
    "# # 剪切矩阵\n",
    "# shear_matrix = np.array([[1, 1],\n",
    "#                           [0, 1]])\n",
    "\n",
    "# # 应用变换：看看向量v经过这些变换后去了哪里\n",
    "# v_scaled = np.dot(scale_matrix, v)\n",
    "# v_rotated = np.dot(rotation_matrix, v)\n",
    "# v_sheared = np.dot(shear_matrix, v)\n",
    "\n",
    "# print(\"v after scaling:\", v_scaled)\n",
    "# print(\"v after rotation:\", v_rotated)\n",
    "# print(\"v after shearing:\", v_sheared)\n",
    "\n",
    "# # 尝试先旋转再缩放\n",
    "# transform_1 = np.dot(scale_matrix, rotation_matrix) # 注意顺序！\n",
    "# result_1 = np.dot(transform_1, v)\n",
    "# print(\"先旋转再缩放的结果:\", result_1)\n",
    "\n",
    "# # 尝试先缩放再旋转\n",
    "# transform_2 = np.dot(rotation_matrix, scale_matrix) # 顺序相反\n",
    "# result_2 = np.dot(transform_2, v)\n",
    "# print(\"先缩放再旋转的结果:\", result_2)\n",
    "\n",
    "# # 验证：它们结果一样吗？\n",
    "# print(\"两种复合变换结果相同吗？\", np.array_equal(result_1, result_2))\n",
    "\n",
    "# 题目五、创建两个向量 v = [1, -2, 4] 和 w = [3, 0, -1]，并计算它们的和与点积（内积）。\n",
    "v = np.array([1, -2, 4])\n",
    "w = np.array([3, 0, -1])\n",
    "print(\"向量v:\", v)\n",
    "print(\"向量w:\", w)\n",
    "print(\"v + w =\", v + w)\n",
    "print(\"v·w\", np.dot(v, w))  # 点积\n",
    "\n",
    "# 题目六\n",
    "# 创建一个代表“逆时针旋转90度”的变换矩阵 R。\n",
    "R = np.array([[0,-1], [1,0]])\n",
    "\n",
    "# 创建一个代表“水平方向缩放2倍，垂直方向不变”的变换矩阵 S。\n",
    "S = np.array([[2, 0], [0, 1]])\n",
    "\n",
    "# 创建一个向量 u = [3, 1]，分别计算它经过矩阵 R 和 S 变换后的结果。\n",
    "u = np.array([3, 1])\n",
    "\n",
    "R1 = np.dot(R, u)\n",
    "S1 = np.dot(S, u)\n",
    "print(\"u经过R变换后:\", R1)\n",
    "print(\"u经过S变换后:\", S1)\n",
    "\n",
    "T = np.dot(S, R)  # 先旋转再缩放\n",
    "T1 = np.dot(T, u)\n",
    "print(\"先旋转再缩放:\", T)\n",
    "print(\"u经过T变换后:\", T1)"
   ]
  },
  {
   "cell_type": "code",
   "execution_count": null,
   "id": "88d6a5e3",
   "metadata": {},
   "outputs": [],
   "source": []
  }
 ],
 "metadata": {
  "kernelspec": {
   "display_name": "myenv",
   "language": "python",
   "name": "python3"
  },
  "language_info": {
   "codemirror_mode": {
    "name": "ipython",
    "version": 3
   },
   "file_extension": ".py",
   "mimetype": "text/x-python",
   "name": "python",
   "nbconvert_exporter": "python",
   "pygments_lexer": "ipython3",
   "version": "3.13.3"
  }
 },
 "nbformat": 4,
 "nbformat_minor": 5
}
