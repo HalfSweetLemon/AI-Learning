{
 "cells": [
  {
   "cell_type": "code",
   "execution_count": 8,
   "id": "6ea7444d",
   "metadata": {},
   "outputs": [
    {
     "name": "stdout",
     "output_type": "stream",
     "text": [
      "0维标量的形状: ()\n",
      "1维向量的形状: (5,)\n",
      "2维矩阵的形状: (2, 3)\n",
      "原始数组:\n",
      " [[ 1  2  3  4]\n",
      " [ 5  6  7  8]\n",
      " [ 9 10 11 12]]\n",
      "形状: (3, 4)\n",
      "获取第2行第3列的元素: 7\n",
      "获取前两行的所有数据:\n",
      " [[1 2 3 4]\n",
      " [5 6 7 8]]\n",
      "获取第2、3列的所有数据:\n",
      " [[ 2  3]\n",
      " [ 6  7]\n",
      " [10 11]]\n",
      "获取一个2x2的子矩阵:\n",
      " [[2 3]\n",
      " [6 7]]\n",
      "[2, 4, 6, 8, 10]\n",
      "[ 2  4  6  8 10]\n",
      "加法: [ 6  7  8  9 10]\n",
      "平方: [ 1  4  9 16 25]\n",
      "三角函数: [ 0.84147098  0.90929743  0.14112001 -0.7568025  -0.95892427]\n",
      "逻辑判断: [False False False  True  True]\n"
     ]
    }
   ],
   "source": [
    "import numpy as np\n",
    "\n",
    "# 创建不同维度的数组\n",
    "scalar = np.array(5)\n",
    "vector = np.array([1,2,3,4,5])\n",
    "matrix = np.array([[1,2,3],[4,5,6]])\n",
    "\n",
    "# 查看它们的形状\n",
    "print(\"0维标量的形状:\", scalar.shape) # 输出: ()\n",
    "print(\"1维向量的形状:\", vector.shape) # 输出: (5,)\n",
    "print(\"2维矩阵的形状:\", matrix.shape) # 输出: (2, 3) -> 2行3列\n",
    "\n",
    "\n",
    "# 创建一个2维数组 (3x4)\n",
    "arr = np.array([[1, 2, 3, 4],\n",
    "                [5, 6, 7, 8],\n",
    "                [9, 10, 11, 12]])\n",
    "\n",
    "print(\"原始数组:\\n\", arr)\n",
    "print(\"形状:\", arr.shape) # (3, 4)\n",
    "\n",
    "# 索引：获取单个元素\n",
    "print(\"获取第2行第3列的元素:\", arr[1, 2]) # 输出: 7 (注意: 索引从0开始!)\n",
    "\n",
    "# 切片：获取子数组\n",
    "print(\"获取前两行的所有数据:\\n\", arr[0:2, :])   # : 代表“所有列”\n",
    "print(\"获取第2、3列的所有数据:\\n\", arr[:, 1:3]) # : 代表“所有行”\n",
    "print(\"获取一个2x2的子矩阵:\\n\", arr[0:2, 1:3])\n",
    "\n",
    "\n",
    "# 传统方法（笨方法）：用循环\n",
    "a = [1, 2, 3, 4, 5]\n",
    "b = []\n",
    "for i in a:\n",
    "    b.append(i * 2)\n",
    "print(b) # [2, 4, 6, 8, 10]\n",
    "\n",
    "# NumPy方法（向量化）：直接运算\n",
    "a_np = np.array([1, 2, 3, 4, 5])\n",
    "b_np = a_np * 2 # 直接把数组乘以2！\n",
    "print(b_np) # [ 2 4 6 8 10]\n",
    "\n",
    "# 不仅仅是乘法，所有数学运算都支持向量化\n",
    "print(\"加法:\", a_np + 5)\n",
    "print(\"平方:\", a_np ** 2)\n",
    "print(\"三角函数:\", np.sin(a_np))\n",
    "print(\"逻辑判断:\", a_np > 3)"
   ]
  },
  {
   "cell_type": "code",
   "execution_count": null,
   "id": "68476f8e",
   "metadata": {},
   "outputs": [],
   "source": []
  }
 ],
 "metadata": {
  "kernelspec": {
   "display_name": "myenv",
   "language": "python",
   "name": "python3"
  },
  "language_info": {
   "codemirror_mode": {
    "name": "ipython",
    "version": 3
   },
   "file_extension": ".py",
   "mimetype": "text/x-python",
   "name": "python",
   "nbconvert_exporter": "python",
   "pygments_lexer": "ipython3",
   "version": "3.13.3"
  }
 },
 "nbformat": 4,
 "nbformat_minor": 5
}
