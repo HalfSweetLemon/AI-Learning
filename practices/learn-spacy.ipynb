{
 "cells": [
  {
   "cell_type": "code",
   "execution_count": 19,
   "id": "ba916978",
   "metadata": {},
   "outputs": [
    {
     "name": "stdout",
     "output_type": "stream",
     "text": [
      "Text       POS_         Tag_     Dep_           Lemma_    \n",
      "------------------------------------------------------------\n",
      "I          PRON         PRP      nsubj          I         \n",
      "love       VERB         VBP      ROOT           love      \n",
      "learning   VERB         VBG      xcomp          learn     \n",
      "Python     PROPN        NNP      dobj           Python    \n",
      "and        CCONJ        CC       cc             and       \n",
      "spaCy      NOUN         NNS      conj           spaCy     \n",
      "!          PUNCT        .        punct          !         \n"
     ]
    }
   ],
   "source": [
    "import spacy\n",
    "\n",
    "nlp = spacy.load('en_core_web_sm')\n",
    "doc = nlp('I love learning Python and spaCy!')\n",
    "\n",
    "print(f\"{'Text':<10} {'POS_':<12} {'Tag_':<8} {'Dep_':<14} {'Lemma_':<10}\")\n",
    "print(\"-\" * 60)\n",
    "\n",
    "for token in doc:\n",
    "    # 打印每个token的文本、词性、详细标签、依存关系和词根原型\n",
    "    print(f\"{token.text:<10} {token.pos_:<12} {token.tag_:<8} {token.dep_:<14} {token.lemma_:<10}\")\n"
   ]
  },
  {
   "cell_type": "code",
   "execution_count": 18,
   "id": "f7552730",
   "metadata": {},
   "outputs": [
    {
     "data": {
      "text/plain": [
       "['Docker', 'Kubernetes', 'Java', 'plus', 'Go', 'Python']"
      ]
     },
     "execution_count": 18,
     "metadata": {},
     "output_type": "execute_result"
    }
   ],
   "source": [
    "    \n",
    "GENERIC_STOP_WORDS = {\n",
    "    \"experience\", \"skill\", \"ability\", \"knowledge\", \"understanding\",\n",
    "    \"responsibility\", \"role\", \"work\", \"developer\", \"engineer\", \"candidate\",\n",
    "    \"team\", \"year\", \"we\", \"you\", \"the\", \"a\", \"an\", \"and\", \"or\", \"in\", \"on\", \"at\"\n",
    "}\n",
    "TECH_WHITELIST = {\"java\", \"go\"}\n",
    "    \n",
    "def extract_tech_nouns(jd_text):\n",
    "  jdDoc = nlp(jd_text)\n",
    "  jdSet = set()\n",
    "  for jdToken in jdDoc:\n",
    "    if jdToken.pos_ not in jdToken.pos_ not in ['DET', 'ADP']:\n",
    "      continue\n",
    "    if jdToken.pos_ in ['NOUN', 'PROPN'] and jdToken.text.lower() not in GENERIC_STOP_WORDS and len(jdToken.text) > 2:\n",
    "      jdSet.add(jdToken.text)\n",
    "    elif jdToken.text.lower() in TECH_WHITELIST:\n",
    "      jdSet.add(jdToken.text)\n",
    "  return list(jdSet)\n",
    "\n",
    "extract_tech_nouns(\"We need a Python developer with experience in Docker, Kubernetes, and Go. Java experience is a plus.\")"
   ]
  },
  {
   "cell_type": "code",
   "execution_count": null,
   "id": "b10f3e66",
   "metadata": {},
   "outputs": [],
   "source": []
  }
 ],
 "metadata": {
  "kernelspec": {
   "display_name": "ml-learning",
   "language": "python",
   "name": "python3"
  },
  "language_info": {
   "codemirror_mode": {
    "name": "ipython",
    "version": 3
   },
   "file_extension": ".py",
   "mimetype": "text/x-python",
   "name": "python",
   "nbconvert_exporter": "python",
   "pygments_lexer": "ipython3",
   "version": "3.10.18"
  }
 },
 "nbformat": 4,
 "nbformat_minor": 5
}
